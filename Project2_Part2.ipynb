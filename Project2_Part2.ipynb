{
  "nbformat": 4,
  "nbformat_minor": 0,
  "metadata": {
    "colab": {
      "name": "Project2_Part2",
      "provenance": [],
      "collapsed_sections": []
    },
    "kernelspec": {
      "name": "python3",
      "display_name": "Python 3"
    },
    "language_info": {
      "name": "python"
    },
    "accelerator": "GPU",
    "widgets": {
      "application/vnd.jupyter.widget-state+json": {
        "77786038407a42c894f3423482f985e9": {
          "model_module": "@jupyter-widgets/controls",
          "model_name": "HBoxModel",
          "model_module_version": "1.5.0",
          "state": {
            "_view_name": "HBoxView",
            "_dom_classes": [],
            "_model_name": "HBoxModel",
            "_view_module": "@jupyter-widgets/controls",
            "_model_module_version": "1.5.0",
            "_view_count": null,
            "_view_module_version": "1.5.0",
            "box_style": "",
            "layout": "IPY_MODEL_90fb0d39dd6349a2a469b79507856c61",
            "_model_module": "@jupyter-widgets/controls",
            "children": [
              "IPY_MODEL_225b228f85714241b806ac3ae2ccc7cd",
              "IPY_MODEL_770b7aac7a9847af81d308810bb796ba",
              "IPY_MODEL_75a002db777e436c97d6ba396615aede"
            ]
          }
        },
        "90fb0d39dd6349a2a469b79507856c61": {
          "model_module": "@jupyter-widgets/base",
          "model_name": "LayoutModel",
          "model_module_version": "1.2.0",
          "state": {
            "_view_name": "LayoutView",
            "grid_template_rows": null,
            "right": null,
            "justify_content": null,
            "_view_module": "@jupyter-widgets/base",
            "overflow": null,
            "_model_module_version": "1.2.0",
            "_view_count": null,
            "flex_flow": null,
            "width": null,
            "min_width": null,
            "border": null,
            "align_items": null,
            "bottom": null,
            "_model_module": "@jupyter-widgets/base",
            "top": null,
            "grid_column": null,
            "overflow_y": null,
            "overflow_x": null,
            "grid_auto_flow": null,
            "grid_area": null,
            "grid_template_columns": null,
            "flex": null,
            "_model_name": "LayoutModel",
            "justify_items": null,
            "grid_row": null,
            "max_height": null,
            "align_content": null,
            "visibility": null,
            "align_self": null,
            "height": null,
            "min_height": null,
            "padding": null,
            "grid_auto_rows": null,
            "grid_gap": null,
            "max_width": null,
            "order": null,
            "_view_module_version": "1.2.0",
            "grid_template_areas": null,
            "object_position": null,
            "object_fit": null,
            "grid_auto_columns": null,
            "margin": null,
            "display": null,
            "left": null
          }
        },
        "225b228f85714241b806ac3ae2ccc7cd": {
          "model_module": "@jupyter-widgets/controls",
          "model_name": "HTMLModel",
          "model_module_version": "1.5.0",
          "state": {
            "_view_name": "HTMLView",
            "style": "IPY_MODEL_c511f8857de34862be7eb8690f4fc1e9",
            "_dom_classes": [],
            "description": "",
            "_model_name": "HTMLModel",
            "placeholder": "​",
            "_view_module": "@jupyter-widgets/controls",
            "_model_module_version": "1.5.0",
            "value": "100%",
            "_view_count": null,
            "_view_module_version": "1.5.0",
            "description_tooltip": null,
            "_model_module": "@jupyter-widgets/controls",
            "layout": "IPY_MODEL_9c522e09662b46298060ecdff1ea3247"
          }
        },
        "770b7aac7a9847af81d308810bb796ba": {
          "model_module": "@jupyter-widgets/controls",
          "model_name": "FloatProgressModel",
          "model_module_version": "1.5.0",
          "state": {
            "_view_name": "ProgressView",
            "style": "IPY_MODEL_0649e050fc354b788ddfa8df49e380f6",
            "_dom_classes": [],
            "description": "",
            "_model_name": "FloatProgressModel",
            "bar_style": "success",
            "max": 553433881,
            "_view_module": "@jupyter-widgets/controls",
            "_model_module_version": "1.5.0",
            "value": 553433881,
            "_view_count": null,
            "_view_module_version": "1.5.0",
            "orientation": "horizontal",
            "min": 0,
            "description_tooltip": null,
            "_model_module": "@jupyter-widgets/controls",
            "layout": "IPY_MODEL_1465bdfc7fa54f8898e75700112a57b6"
          }
        },
        "75a002db777e436c97d6ba396615aede": {
          "model_module": "@jupyter-widgets/controls",
          "model_name": "HTMLModel",
          "model_module_version": "1.5.0",
          "state": {
            "_view_name": "HTMLView",
            "style": "IPY_MODEL_92d59424b0694877a1236e5a4a8bfe99",
            "_dom_classes": [],
            "description": "",
            "_model_name": "HTMLModel",
            "placeholder": "​",
            "_view_module": "@jupyter-widgets/controls",
            "_model_module_version": "1.5.0",
            "value": " 528M/528M [00:09&lt;00:00, 53.2MB/s]",
            "_view_count": null,
            "_view_module_version": "1.5.0",
            "description_tooltip": null,
            "_model_module": "@jupyter-widgets/controls",
            "layout": "IPY_MODEL_ff7cf0e9c24c4702bb3b1db107d1df73"
          }
        },
        "c511f8857de34862be7eb8690f4fc1e9": {
          "model_module": "@jupyter-widgets/controls",
          "model_name": "DescriptionStyleModel",
          "model_module_version": "1.5.0",
          "state": {
            "_view_name": "StyleView",
            "_model_name": "DescriptionStyleModel",
            "description_width": "",
            "_view_module": "@jupyter-widgets/base",
            "_model_module_version": "1.5.0",
            "_view_count": null,
            "_view_module_version": "1.2.0",
            "_model_module": "@jupyter-widgets/controls"
          }
        },
        "9c522e09662b46298060ecdff1ea3247": {
          "model_module": "@jupyter-widgets/base",
          "model_name": "LayoutModel",
          "model_module_version": "1.2.0",
          "state": {
            "_view_name": "LayoutView",
            "grid_template_rows": null,
            "right": null,
            "justify_content": null,
            "_view_module": "@jupyter-widgets/base",
            "overflow": null,
            "_model_module_version": "1.2.0",
            "_view_count": null,
            "flex_flow": null,
            "width": null,
            "min_width": null,
            "border": null,
            "align_items": null,
            "bottom": null,
            "_model_module": "@jupyter-widgets/base",
            "top": null,
            "grid_column": null,
            "overflow_y": null,
            "overflow_x": null,
            "grid_auto_flow": null,
            "grid_area": null,
            "grid_template_columns": null,
            "flex": null,
            "_model_name": "LayoutModel",
            "justify_items": null,
            "grid_row": null,
            "max_height": null,
            "align_content": null,
            "visibility": null,
            "align_self": null,
            "height": null,
            "min_height": null,
            "padding": null,
            "grid_auto_rows": null,
            "grid_gap": null,
            "max_width": null,
            "order": null,
            "_view_module_version": "1.2.0",
            "grid_template_areas": null,
            "object_position": null,
            "object_fit": null,
            "grid_auto_columns": null,
            "margin": null,
            "display": null,
            "left": null
          }
        },
        "0649e050fc354b788ddfa8df49e380f6": {
          "model_module": "@jupyter-widgets/controls",
          "model_name": "ProgressStyleModel",
          "model_module_version": "1.5.0",
          "state": {
            "_view_name": "StyleView",
            "_model_name": "ProgressStyleModel",
            "description_width": "",
            "_view_module": "@jupyter-widgets/base",
            "_model_module_version": "1.5.0",
            "_view_count": null,
            "_view_module_version": "1.2.0",
            "bar_color": null,
            "_model_module": "@jupyter-widgets/controls"
          }
        },
        "1465bdfc7fa54f8898e75700112a57b6": {
          "model_module": "@jupyter-widgets/base",
          "model_name": "LayoutModel",
          "model_module_version": "1.2.0",
          "state": {
            "_view_name": "LayoutView",
            "grid_template_rows": null,
            "right": null,
            "justify_content": null,
            "_view_module": "@jupyter-widgets/base",
            "overflow": null,
            "_model_module_version": "1.2.0",
            "_view_count": null,
            "flex_flow": null,
            "width": null,
            "min_width": null,
            "border": null,
            "align_items": null,
            "bottom": null,
            "_model_module": "@jupyter-widgets/base",
            "top": null,
            "grid_column": null,
            "overflow_y": null,
            "overflow_x": null,
            "grid_auto_flow": null,
            "grid_area": null,
            "grid_template_columns": null,
            "flex": null,
            "_model_name": "LayoutModel",
            "justify_items": null,
            "grid_row": null,
            "max_height": null,
            "align_content": null,
            "visibility": null,
            "align_self": null,
            "height": null,
            "min_height": null,
            "padding": null,
            "grid_auto_rows": null,
            "grid_gap": null,
            "max_width": null,
            "order": null,
            "_view_module_version": "1.2.0",
            "grid_template_areas": null,
            "object_position": null,
            "object_fit": null,
            "grid_auto_columns": null,
            "margin": null,
            "display": null,
            "left": null
          }
        },
        "92d59424b0694877a1236e5a4a8bfe99": {
          "model_module": "@jupyter-widgets/controls",
          "model_name": "DescriptionStyleModel",
          "model_module_version": "1.5.0",
          "state": {
            "_view_name": "StyleView",
            "_model_name": "DescriptionStyleModel",
            "description_width": "",
            "_view_module": "@jupyter-widgets/base",
            "_model_module_version": "1.5.0",
            "_view_count": null,
            "_view_module_version": "1.2.0",
            "_model_module": "@jupyter-widgets/controls"
          }
        },
        "ff7cf0e9c24c4702bb3b1db107d1df73": {
          "model_module": "@jupyter-widgets/base",
          "model_name": "LayoutModel",
          "model_module_version": "1.2.0",
          "state": {
            "_view_name": "LayoutView",
            "grid_template_rows": null,
            "right": null,
            "justify_content": null,
            "_view_module": "@jupyter-widgets/base",
            "overflow": null,
            "_model_module_version": "1.2.0",
            "_view_count": null,
            "flex_flow": null,
            "width": null,
            "min_width": null,
            "border": null,
            "align_items": null,
            "bottom": null,
            "_model_module": "@jupyter-widgets/base",
            "top": null,
            "grid_column": null,
            "overflow_y": null,
            "overflow_x": null,
            "grid_auto_flow": null,
            "grid_area": null,
            "grid_template_columns": null,
            "flex": null,
            "_model_name": "LayoutModel",
            "justify_items": null,
            "grid_row": null,
            "max_height": null,
            "align_content": null,
            "visibility": null,
            "align_self": null,
            "height": null,
            "min_height": null,
            "padding": null,
            "grid_auto_rows": null,
            "grid_gap": null,
            "max_width": null,
            "order": null,
            "_view_module_version": "1.2.0",
            "grid_template_areas": null,
            "object_position": null,
            "object_fit": null,
            "grid_auto_columns": null,
            "margin": null,
            "display": null,
            "left": null
          }
        }
      }
    }
  },
  "cells": [
    {
      "cell_type": "code",
      "execution_count": null,
      "metadata": {
        "id": "LH6ceicK5dYe"
      },
      "outputs": [],
      "source": [
        "import torch\n",
        "import torch.nn as nn\n",
        "from torchvision import transforms, datasets\n",
        "from torch.utils.data import DataLoader, TensorDataset\n",
        "import numpy as np\n",
        "import matplotlib.pyplot as plt\n",
        "\n",
        "from tqdm import tqdm\n",
        "import requests\n",
        "import os\n",
        "import tarfile\n",
        "\n",
        "from sklearn.preprocessing import StandardScaler\n",
        "from sklearn.decomposition import PCA\n",
        "from sklearn.cluster import KMeans\n",
        "from sklearn.metrics import confusion_matrix, adjusted_rand_score, adjusted_mutual_info_score\n",
        "from sklearn.pipeline import Pipeline\n",
        "from sklearn.base import TransformerMixin\n"
      ]
    },
    {
      "cell_type": "code",
      "source": [
        "filename = './flowers_features_and_labels.npz'\n",
        "\n",
        "if os.path.exists(filename):\n",
        "    file = np.load(filename)\n",
        "    f_all, y_all = file['f_all'], file['y_all']\n",
        "\n",
        "else:\n",
        "    if not os.path.exists('./flower_photos'):\n",
        "        # download the flowers dataset and extract its images\n",
        "        url = 'http://download.tensorflow.org/example_images/flower_photos.tgz'\n",
        "        with open('./flower_photos.tgz', 'wb') as file:\n",
        "            file.write(requests.get(url).content)\n",
        "        with tarfile.open('./flower_photos.tgz') as file:\n",
        "            file.extractall('./')\n",
        "        os.remove('./flower_photos.tgz')\n",
        "\n",
        "    class FeatureExtractor(nn.Module):\n",
        "        def __init__(self):\n",
        "            super().__init__()\n",
        "\n",
        "            vgg = torch.hub.load('pytorch/vision:v0.10.0', 'vgg16', pretrained=True)\n",
        "\n",
        "            # Extract VGG-16 Feature Layers\n",
        "            self.features = list(vgg.features)\n",
        "            self.features = nn.Sequential(*self.features)\n",
        "            # Extract VGG-16 Average Pooling Layer\n",
        "            self.pooling = vgg.avgpool\n",
        "            # Convert the image into one-dimensional vector\n",
        "            self.flatten = nn.Flatten()\n",
        "            # Extract the first part of fully-connected layer from VGG16\n",
        "            self.fc = vgg.classifier[0]\n",
        "\n",
        "        def forward(self, x):\n",
        "            # It will take the input 'x' until it returns the feature vector called 'out'\n",
        "            out = self.features(x)\n",
        "            out = self.pooling(out)\n",
        "            out = self.flatten(out)\n",
        "            out = self.fc(out) \n",
        "            return out \n",
        "\n",
        "    # Initialize the model\n",
        "    assert torch.cuda.is_available()\n",
        "    feature_extractor = FeatureExtractor().cuda().eval()\n",
        "\n",
        "    dataset = datasets.ImageFolder(root='./flower_photos',\n",
        "                                   transform=transforms.Compose([transforms.Resize(224),\n",
        "                                                                 transforms.CenterCrop(224),\n",
        "                                                                 transforms.ToTensor(),\n",
        "                                                                 transforms.Normalize(mean=[0.485, 0.456, 0.406], std=[0.229, 0.224, 0.225])]))\n",
        "    dataloader = DataLoader(dataset, batch_size=64, shuffle=True)\n",
        "\n",
        "    # Extract features and store them on disk\n",
        "    f_all, y_all = np.zeros((0, 4096)), np.zeros((0,))\n",
        "    for x, y in tqdm(dataloader):\n",
        "        with torch.no_grad():\n",
        "            f_all = np.vstack([f_all, feature_extractor(x.cuda()).cpu()])\n",
        "            y_all = np.concatenate([y_all, y])\n",
        "    np.savez(filename, f_all=f_all, y_all=y_all)"
      ],
      "metadata": {
        "id": "cc0BhdLf5f-p",
        "colab": {
          "base_uri": "https://localhost:8080/",
          "height": 320,
          "referenced_widgets": [
            "77786038407a42c894f3423482f985e9",
            "90fb0d39dd6349a2a469b79507856c61",
            "225b228f85714241b806ac3ae2ccc7cd",
            "770b7aac7a9847af81d308810bb796ba",
            "75a002db777e436c97d6ba396615aede",
            "c511f8857de34862be7eb8690f4fc1e9",
            "9c522e09662b46298060ecdff1ea3247",
            "0649e050fc354b788ddfa8df49e380f6",
            "1465bdfc7fa54f8898e75700112a57b6",
            "92d59424b0694877a1236e5a4a8bfe99",
            "ff7cf0e9c24c4702bb3b1db107d1df73"
          ]
        },
        "outputId": "cd819538-0d65-4213-edb7-8428cf673f48"
      },
      "execution_count": null,
      "outputs": [
        {
          "output_type": "stream",
          "name": "stderr",
          "text": [
            "Downloading: \"https://github.com/pytorch/vision/archive/v0.10.0.zip\" to /root/.cache/torch/hub/v0.10.0.zip\n",
            "Downloading: \"https://download.pytorch.org/models/vgg16-397923af.pth\" to /root/.cache/torch/hub/checkpoints/vgg16-397923af.pth\n"
          ]
        },
        {
          "output_type": "display_data",
          "data": {
            "application/vnd.jupyter.widget-view+json": {
              "model_id": "77786038407a42c894f3423482f985e9",
              "version_minor": 0,
              "version_major": 2
            },
            "text/plain": [
              "  0%|          | 0.00/528M [00:00<?, ?B/s]"
            ]
          },
          "metadata": {}
        },
        {
          "output_type": "stream",
          "name": "stderr",
          "text": [
            " 14%|█▍        | 8/58 [00:10<01:08,  1.37s/it]\n"
          ]
        },
        {
          "output_type": "error",
          "ename": "KeyboardInterrupt",
          "evalue": "ignored",
          "traceback": [
            "\u001b[0;31m---------------------------------------------------------------------------\u001b[0m",
            "\u001b[0;31mKeyboardInterrupt\u001b[0m                         Traceback (most recent call last)",
            "\u001b[0;32m<ipython-input-2-fe4752ab250b>\u001b[0m in \u001b[0;36m<module>\u001b[0;34m()\u001b[0m\n\u001b[1;32m     54\u001b[0m     \u001b[0;32mfor\u001b[0m \u001b[0mx\u001b[0m\u001b[0;34m,\u001b[0m \u001b[0my\u001b[0m \u001b[0;32min\u001b[0m \u001b[0mtqdm\u001b[0m\u001b[0;34m(\u001b[0m\u001b[0mdataloader\u001b[0m\u001b[0;34m)\u001b[0m\u001b[0;34m:\u001b[0m\u001b[0;34m\u001b[0m\u001b[0;34m\u001b[0m\u001b[0m\n\u001b[1;32m     55\u001b[0m         \u001b[0;32mwith\u001b[0m \u001b[0mtorch\u001b[0m\u001b[0;34m.\u001b[0m\u001b[0mno_grad\u001b[0m\u001b[0;34m(\u001b[0m\u001b[0;34m)\u001b[0m\u001b[0;34m:\u001b[0m\u001b[0;34m\u001b[0m\u001b[0;34m\u001b[0m\u001b[0m\n\u001b[0;32m---> 56\u001b[0;31m             \u001b[0mf_all\u001b[0m \u001b[0;34m=\u001b[0m \u001b[0mnp\u001b[0m\u001b[0;34m.\u001b[0m\u001b[0mvstack\u001b[0m\u001b[0;34m(\u001b[0m\u001b[0;34m[\u001b[0m\u001b[0mf_all\u001b[0m\u001b[0;34m,\u001b[0m \u001b[0mfeature_extractor\u001b[0m\u001b[0;34m(\u001b[0m\u001b[0mx\u001b[0m\u001b[0;34m.\u001b[0m\u001b[0mcuda\u001b[0m\u001b[0;34m(\u001b[0m\u001b[0;34m)\u001b[0m\u001b[0;34m)\u001b[0m\u001b[0;34m.\u001b[0m\u001b[0mcpu\u001b[0m\u001b[0;34m(\u001b[0m\u001b[0;34m)\u001b[0m\u001b[0;34m]\u001b[0m\u001b[0;34m)\u001b[0m\u001b[0;34m\u001b[0m\u001b[0;34m\u001b[0m\u001b[0m\n\u001b[0m\u001b[1;32m     57\u001b[0m             \u001b[0my_all\u001b[0m \u001b[0;34m=\u001b[0m \u001b[0mnp\u001b[0m\u001b[0;34m.\u001b[0m\u001b[0mconcatenate\u001b[0m\u001b[0;34m(\u001b[0m\u001b[0;34m[\u001b[0m\u001b[0my_all\u001b[0m\u001b[0;34m,\u001b[0m \u001b[0my\u001b[0m\u001b[0;34m]\u001b[0m\u001b[0;34m)\u001b[0m\u001b[0;34m\u001b[0m\u001b[0;34m\u001b[0m\u001b[0m\n\u001b[1;32m     58\u001b[0m     \u001b[0mnp\u001b[0m\u001b[0;34m.\u001b[0m\u001b[0msavez\u001b[0m\u001b[0;34m(\u001b[0m\u001b[0mfilename\u001b[0m\u001b[0;34m,\u001b[0m \u001b[0mf_all\u001b[0m\u001b[0;34m=\u001b[0m\u001b[0mf_all\u001b[0m\u001b[0;34m,\u001b[0m \u001b[0my_all\u001b[0m\u001b[0;34m=\u001b[0m\u001b[0my_all\u001b[0m\u001b[0;34m)\u001b[0m\u001b[0;34m\u001b[0m\u001b[0;34m\u001b[0m\u001b[0m\n",
            "\u001b[0;31mKeyboardInterrupt\u001b[0m: "
          ]
        }
      ]
    },
    {
      "cell_type": "code",
      "source": [
        "vgg = torch.hub.load('pytorch/vision:v0.10.0', 'vgg16', pretrained=True)"
      ],
      "metadata": {
        "colab": {
          "base_uri": "https://localhost:8080/"
        },
        "id": "ovqSay-KlooB",
        "outputId": "a4957e8c-1b64-4604-ff93-5fe12dbd0573"
      },
      "execution_count": null,
      "outputs": [
        {
          "output_type": "stream",
          "name": "stderr",
          "text": [
            "Using cache found in /root/.cache/torch/hub/pytorch_vision_v0.10.0\n"
          ]
        }
      ]
    },
    {
      "cell_type": "code",
      "source": [
        "list(vgg.features)"
      ],
      "metadata": {
        "colab": {
          "base_uri": "https://localhost:8080/"
        },
        "id": "byZntxxslq31",
        "outputId": "f6abf896-b56c-4d72-b75e-5559bc74f8fa"
      },
      "execution_count": null,
      "outputs": [
        {
          "output_type": "execute_result",
          "data": {
            "text/plain": [
              "[Conv2d(3, 64, kernel_size=(3, 3), stride=(1, 1), padding=(1, 1)),\n",
              " ReLU(inplace=True),\n",
              " Conv2d(64, 64, kernel_size=(3, 3), stride=(1, 1), padding=(1, 1)),\n",
              " ReLU(inplace=True),\n",
              " MaxPool2d(kernel_size=2, stride=2, padding=0, dilation=1, ceil_mode=False),\n",
              " Conv2d(64, 128, kernel_size=(3, 3), stride=(1, 1), padding=(1, 1)),\n",
              " ReLU(inplace=True),\n",
              " Conv2d(128, 128, kernel_size=(3, 3), stride=(1, 1), padding=(1, 1)),\n",
              " ReLU(inplace=True),\n",
              " MaxPool2d(kernel_size=2, stride=2, padding=0, dilation=1, ceil_mode=False),\n",
              " Conv2d(128, 256, kernel_size=(3, 3), stride=(1, 1), padding=(1, 1)),\n",
              " ReLU(inplace=True),\n",
              " Conv2d(256, 256, kernel_size=(3, 3), stride=(1, 1), padding=(1, 1)),\n",
              " ReLU(inplace=True),\n",
              " Conv2d(256, 256, kernel_size=(3, 3), stride=(1, 1), padding=(1, 1)),\n",
              " ReLU(inplace=True),\n",
              " MaxPool2d(kernel_size=2, stride=2, padding=0, dilation=1, ceil_mode=False),\n",
              " Conv2d(256, 512, kernel_size=(3, 3), stride=(1, 1), padding=(1, 1)),\n",
              " ReLU(inplace=True),\n",
              " Conv2d(512, 512, kernel_size=(3, 3), stride=(1, 1), padding=(1, 1)),\n",
              " ReLU(inplace=True),\n",
              " Conv2d(512, 512, kernel_size=(3, 3), stride=(1, 1), padding=(1, 1)),\n",
              " ReLU(inplace=True),\n",
              " MaxPool2d(kernel_size=2, stride=2, padding=0, dilation=1, ceil_mode=False),\n",
              " Conv2d(512, 512, kernel_size=(3, 3), stride=(1, 1), padding=(1, 1)),\n",
              " ReLU(inplace=True),\n",
              " Conv2d(512, 512, kernel_size=(3, 3), stride=(1, 1), padding=(1, 1)),\n",
              " ReLU(inplace=True),\n",
              " Conv2d(512, 512, kernel_size=(3, 3), stride=(1, 1), padding=(1, 1)),\n",
              " ReLU(inplace=True),\n",
              " MaxPool2d(kernel_size=2, stride=2, padding=0, dilation=1, ceil_mode=False)]"
            ]
          },
          "metadata": {},
          "execution_count": 5
        }
      ]
    },
    {
      "cell_type": "code",
      "source": [
        "print(f_all.shape, y_all.shape)\n",
        "num_features = f_all.shape[1]"
      ],
      "metadata": {
        "colab": {
          "base_uri": "https://localhost:8080/"
        },
        "id": "u11iMmbt5huR",
        "outputId": "9f9f3595-1a87-456d-bd51-d3f69d193a80"
      },
      "execution_count": null,
      "outputs": [
        {
          "output_type": "stream",
          "name": "stdout",
          "text": [
            "(3670, 4096) (3670,)\n"
          ]
        }
      ]
    },
    {
      "cell_type": "code",
      "source": [
        "import numpy as np\n",
        "print(np.count_nonzero(f_all))"
      ],
      "metadata": {
        "colab": {
          "base_uri": "https://localhost:8080/"
        },
        "id": "AHZpio71aBCj",
        "outputId": "56a88770-7216-480b-f16a-c03fb81096c1"
      },
      "execution_count": null,
      "outputs": [
        {
          "output_type": "stream",
          "name": "stdout",
          "text": [
            "15032320\n"
          ]
        }
      ]
    },
    {
      "cell_type": "code",
      "source": [
        "f_pca = PCA(n_components=2).fit_transform(f_all)\n",
        "plt.scatter(*f_pca.T, c=y_all)"
      ],
      "metadata": {
        "colab": {
          "base_uri": "https://localhost:8080/",
          "height": 282
        },
        "id": "wJitEu1KB1JL",
        "outputId": "b1cde9e5-d16e-4aa9-8ada-4d539f4b087d"
      },
      "execution_count": null,
      "outputs": [
        {
          "output_type": "execute_result",
          "data": {
            "text/plain": [
              "<matplotlib.collections.PathCollection at 0x7f4fd1666d50>"
            ]
          },
          "metadata": {},
          "execution_count": 4
        },
        {
          "output_type": "display_data",
          "data": {
            "image/png": "[encoded data removed]",
            "text/plain": [
              "<Figure size 432x288 with 1 Axes>"
            ]
          },
          "metadata": {
            "needs_background": "light"
          }
        }
      ]
    },
    {
      "cell_type": "markdown",
      "source": [
        "**t-SNE**\n",
        "\n",
        "---\n",
        "\n"
      ],
      "metadata": {
        "id": "nzuzemtZ_m0N"
      }
    },
    {
      "cell_type": "code",
      "source": [
        "from sklearn.manifold import TSNE"
      ],
      "metadata": {
        "id": "5ii8aBSD-yge"
      },
      "execution_count": null,
      "outputs": []
    },
    {
      "cell_type": "code",
      "source": [
        "dim_red = TSNE(n_components=2, learning_rate = 'auto',init = 'random').fit_transform(f_all)\n",
        "plt.scatter(*dim_red.T, c=y_all)"
      ],
      "metadata": {
        "colab": {
          "base_uri": "https://localhost:8080/",
          "height": 282
        },
        "id": "fdQGog30-2aB",
        "outputId": "61b41af7-2e1a-435c-9140-a7977e9eaf6c"
      },
      "execution_count": null,
      "outputs": [
        {
          "output_type": "execute_result",
          "data": {
            "text/plain": [
              "<matplotlib.collections.PathCollection at 0x7f4fd0183310>"
            ]
          },
          "metadata": {},
          "execution_count": 6
        },
        {
          "output_type": "display_data",
          "data": {
            "image/png": "[encoded data removed]",
            "text/plain": [
              "<Figure size 432x288 with 1 Axes>"
            ]
          },
          "metadata": {
            "needs_background": "light"
          }
        }
      ]
    },
    {
      "cell_type": "markdown",
      "source": [
        "**MLP CLASSIFIER**\n",
        "\n",
        "---\n",
        "\n",
        "\n",
        "\n"
      ],
      "metadata": {
        "id": "GqukEF1pIgRc"
      }
    },
    {
      "cell_type": "code",
      "source": [
        "class MLP(torch.nn.Module):\n",
        "    def __init__(self, num_features):\n",
        "        super().__init__()\n",
        "        self.model = nn.Sequential(\n",
        "            nn.Linear(num_features, 1280),\n",
        "            nn.ReLU(True),\n",
        "            nn.Linear(1280, 640),\n",
        "            nn.ReLU(True), \n",
        "            nn.Linear(640, 5),\n",
        "            nn.LogSoftmax(dim=1)\n",
        "        )\n",
        "        self.cuda()\n",
        "    \n",
        "    \n",
        "    def forward(self, X):\n",
        "        return self.model(X)\n",
        "    \n",
        "    def train(self, X, y):\n",
        "        X = torch.tensor(X, dtype=torch.float32, device='cuda')\n",
        "        y = torch.tensor(y, dtype=torch.int64, device='cuda')\n",
        "\n",
        "        self.model.train()\n",
        "        \n",
        "        criterion = nn.NLLLoss()\n",
        "        optimizer = torch.optim.Adam(self.parameters(), lr=1e-3, weight_decay=1e-5)\n",
        "\n",
        "        dataset = TensorDataset(X, y)\n",
        "        dataloader = DataLoader(dataset, batch_size=128, shuffle=True)\n",
        "\n",
        "        for epoch in tqdm(range(100)):\n",
        "            for (X_, y_) in dataloader:\n",
        "\n",
        "              optimizer.zero_grad()\n",
        "              outputs = self(X_)\n",
        "\n",
        "              loss = criterion(outputs, y_)\n",
        "              loss.backward()\n",
        "              optimizer.step()\n",
        "\n",
        "        return self\n",
        "    \n",
        "    def eval(self, X_test, y_test):\n",
        "        ##################################\n",
        "        # you should implement this part #\n",
        "        ##################################\n",
        "        X = torch.tensor(X_test, dtype=torch.float32, device='cuda')\n",
        "        y = torch.tensor(y_test, dtype=torch.int64, device='cuda')\n",
        "\n",
        "        criterion = nn.NLLLoss()\n",
        "        dataset = TensorDataset(X, y)\n",
        "\n",
        "        dataset = TensorDataset(X, y)\n",
        "        dataloader = DataLoader(dataset, batch_size=100, shuffle=True)\n",
        "\n",
        "        total = 0 \n",
        "        corr = 0 \n",
        "\n",
        "        with torch.no_grad():\n",
        "          for (X,y) in dataloader : \n",
        "            output = self.model(X)\n",
        "            _,pred = torch.max(output,1)\n",
        "            total += y.size(0)\n",
        "            corr  += (pred==y).sum().item()\n",
        "\n",
        "        accuracy = (corr/total)*100 \n",
        "      \n",
        "        return accuracy\n",
        "        "
      ],
      "metadata": {
        "id": "fAVYxsYEIqFD"
      },
      "execution_count": null,
      "outputs": []
    },
    {
      "cell_type": "code",
      "source": [
        "from sklearn.model_selection import train_test_split\n",
        "X_train,X_test,y_train,y_test = train_test_split(f_all,y_all,test_size=0.2)\n",
        "\n",
        "mlp = MLP(f_all.shape[1])\n",
        "mlp.train(X_train,y_train)\n",
        "mlp.eval(X_test,y_test)"
      ],
      "metadata": {
        "colab": {
          "base_uri": "https://localhost:8080/"
        },
        "id": "v3qVBTglmC_B",
        "outputId": "daa32b4c-8a76-423f-d92b-62d0c6b230e1"
      },
      "execution_count": null,
      "outputs": [
        {
          "output_type": "stream",
          "name": "stderr",
          "text": [
            "100%|██████████| 100/100 [00:16<00:00,  5.93it/s]\n"
          ]
        },
        {
          "output_type": "execute_result",
          "data": {
            "text/plain": [
              "90.59945504087193"
            ]
          },
          "metadata": {},
          "execution_count": 8
        }
      ]
    },
    {
      "cell_type": "markdown",
      "source": [
        "**AUTOENCODER**\n",
        "\n",
        "---\n",
        "\n"
      ],
      "metadata": {
        "id": "Uk9bt1D0Ixxc"
      }
    },
    {
      "cell_type": "code",
      "source": [
        "class Autoencoder(torch.nn.Module, TransformerMixin):\n",
        "    def __init__(self, n_components):\n",
        "        super().__init__()\n",
        "        self.n_components = n_components\n",
        "        self.n_features = None  # to be determined with data\n",
        "        self.encoder = None\n",
        "        self.decoder = None\n",
        "        \n",
        "    def _create_encoder(self):\n",
        "        return nn.Sequential(\n",
        "            nn.Linear(4096, 1280),\n",
        "            nn.ReLU(True),\n",
        "            nn.Linear(1280, 640),\n",
        "            nn.ReLU(True), nn.Linear(640, 120), nn.ReLU(True), nn.Linear(120, self.n_components))\n",
        "    \n",
        "    def _create_decoder(self):\n",
        "        return nn.Sequential(\n",
        "            nn.Linear(self.n_components, 120),\n",
        "            nn.ReLU(True),\n",
        "            nn.Linear(120, 640),\n",
        "            nn.ReLU(True),\n",
        "            nn.Linear(640, 1280),\n",
        "            nn.ReLU(True), nn.Linear(1280, 4096))\n",
        "    \n",
        "    def forward(self, X):\n",
        "        encoded = self.encoder(X)\n",
        "        decoded = self.decoder(encoded)\n",
        "        return decoded\n",
        "    \n",
        "    def fit(self, X):\n",
        "        X = torch.tensor(X, dtype=torch.float32, device='cuda')\n",
        "        self.n_features = X.shape[1]\n",
        "        self.encoder = self._create_encoder()\n",
        "        self.decoder = self._create_decoder()\n",
        "        self.cuda()\n",
        "        self.train()\n",
        "        \n",
        "        criterion = nn.MSELoss()\n",
        "        optimizer = torch.optim.Adam(self.parameters(), lr=1e-3, weight_decay=1e-5)\n",
        "\n",
        "        dataset = TensorDataset(X)\n",
        "        dataloader = DataLoader(dataset, batch_size=128, shuffle=True)\n",
        "\n",
        "        for epoch in tqdm(range(100)):\n",
        "            for (X_,) in dataloader:\n",
        "                X_ = X_.cuda()\n",
        "                # ===================forward=====================\n",
        "                output = self(X_)\n",
        "                loss = criterion(output, X_)\n",
        "                # ===================backward====================\n",
        "                optimizer.zero_grad()\n",
        "                loss.backward()\n",
        "                optimizer.step()\n",
        "\n",
        "        return self     \n",
        "        \n",
        "    def transform(self, X):\n",
        "        X = torch.tensor(X, dtype=torch.float32, device='cuda')\n",
        "        self.eval()\n",
        "        with torch.no_grad():\n",
        "            return self.encoder(X).cpu().numpy()"
      ],
      "metadata": {
        "id": "zRXePHlSIrmX"
      },
      "execution_count": null,
      "outputs": []
    },
    {
      "cell_type": "code",
      "source": [
        "X_em =Autoencoder(50).fit_transform(f_all)\n",
        "X_em.shape"
      ],
      "metadata": {
        "colab": {
          "base_uri": "https://localhost:8080/"
        },
        "id": "vCDzsUNMIvFB",
        "outputId": "257e4549-a9bc-4fa4-fbd5-992ae91021c2"
      },
      "execution_count": null,
      "outputs": [
        {
          "output_type": "stream",
          "name": "stderr",
          "text": [
            "100%|██████████| 100/100 [00:47<00:00,  2.09it/s]\n"
          ]
        },
        {
          "output_type": "execute_result",
          "data": {
            "text/plain": [
              "(3670, 50)"
            ]
          },
          "metadata": {},
          "execution_count": 10
        }
      ]
    },
    {
      "cell_type": "markdown",
      "source": [
        "## MLP with Reduced Features "
      ],
      "metadata": {
        "id": "vuy7EcMCl11z"
      }
    },
    {
      "cell_type": "code",
      "source": [
        "X_train,X_test,y_train,y_test = train_test_split(X_em,y_all,test_size=0.2)\n",
        "\n",
        "mlp = MLP(X_em.shape[1])\n",
        "mlp.train(X_train,y_train)\n",
        "mlp.eval(X_test,y_test)"
      ],
      "metadata": {
        "colab": {
          "base_uri": "https://localhost:8080/"
        },
        "id": "e4aiZc2JI7zf",
        "outputId": "aaa981e9-c958-445d-b6cd-07d86dc78374"
      },
      "execution_count": null,
      "outputs": [
        {
          "output_type": "stream",
          "name": "stderr",
          "text": [
            "100%|██████████| 100/100 [00:11<00:00,  8.92it/s]\n"
          ]
        },
        {
          "output_type": "execute_result",
          "data": {
            "text/plain": [
              "87.32970027247956"
            ]
          },
          "metadata": {},
          "execution_count": 16
        }
      ]
    },
    {
      "cell_type": "markdown",
      "source": [
        ""
      ],
      "metadata": {
        "id": "F2WIU29Flx0d"
      }
    },
    {
      "cell_type": "markdown",
      "source": [
        "*AUTOENCODER WITH k-means*\n",
        "\n",
        "\n",
        "---\n",
        "\n"
      ],
      "metadata": {
        "id": "1sSjXh2h6Dh8"
      }
    },
    {
      "cell_type": "code",
      "source": [
        "from sklearn.cluster import KMeans\n",
        "from sklearn import metrics\n",
        "from sklearn.cluster import KMeans,  AgglomerativeClustering, DBSCAN\n",
        "from sklearn.decomposition import TruncatedSVD\n",
        "from sklearn.metrics.cluster import rand_score\n",
        "\n",
        "km = KMeans(n_clusters=5, random_state=0, max_iter=1000, n_init=30, init='k-means++')\n",
        "km.fit(f_all)\n",
        "\n",
        "km_a = Autoencoder(50).fit_transform(f_all)\n",
        "kmean_a = km.fit(km_a)\n",
        "print(\"K-means Clustering- Rand Score: %.3f\"% adjusted_rand_score(y_all, kmean_a.labels_))"
      ],
      "metadata": {
        "colab": {
          "base_uri": "https://localhost:8080/"
        },
        "id": "iLN4cDXE6TN0",
        "outputId": "b0d44717-4203-4721-d451-b601c1f6343b"
      },
      "execution_count": null,
      "outputs": [
        {
          "output_type": "stream",
          "name": "stderr",
          "text": [
            "100%|██████████| 100/100 [00:47<00:00,  2.10it/s]\n"
          ]
        },
        {
          "output_type": "stream",
          "name": "stdout",
          "text": [
            "K-means Clustering- Rand Score: 0.201\n"
          ]
        }
      ]
    },
    {
      "cell_type": "markdown",
      "source": [
        "*AUTOENCODER WITH AGGLOMERATIVE CLUSTERING*\n",
        "\n",
        "---\n",
        "\n"
      ],
      "metadata": {
        "id": "P1dDfXp29bL1"
      }
    },
    {
      "cell_type": "code",
      "source": [
        "ac_w = AgglomerativeClustering(n_clusters=20, linkage='ward').fit(km_a)\n",
        "print(\"Agglomerative Clustering, Ward - Rand Score: %.3f\"% adjusted_rand_score(y_all, ac_w.labels_))"
      ],
      "metadata": {
        "colab": {
          "base_uri": "https://localhost:8080/"
        },
        "id": "LJiduIlg9meJ",
        "outputId": "508379a4-dd4a-4a4d-940d-d5b06f41808d"
      },
      "execution_count": null,
      "outputs": [
        {
          "output_type": "stream",
          "name": "stdout",
          "text": [
            "Agglomerative Clustering, Ward - Rand Score: 0.176\n"
          ]
        }
      ]
    },
    {
      "cell_type": "code",
      "source": [
        "!pip install hdbscan"
      ],
      "metadata": {
        "colab": {
          "base_uri": "https://localhost:8080/"
        },
        "id": "3DA3oIV9oBWF",
        "outputId": "22afb0c6-2dce-4fcb-c324-2198b39fbb37"
      },
      "execution_count": null,
      "outputs": [
        {
          "output_type": "stream",
          "name": "stdout",
          "text": [
            "Collecting hdbscan\n",
            "  Downloading hdbscan-0.8.27.tar.gz (6.4 MB)\n",
            "\u001b[K     |████████████████████████████████| 6.4 MB 4.2 MB/s \n",
            "\u001b[?25h  Installing build dependencies ... \u001b[?25l\u001b[?25hdone\n",
            "  Getting requirements to build wheel ... \u001b[?25l\u001b[?25hdone\n",
            "    Preparing wheel metadata ... \u001b[?25l\u001b[?25hdone\n",
            "Requirement already satisfied: joblib>=1.0 in /usr/local/lib/python3.7/dist-packages (from hdbscan) (1.1.0)\n",
            "Requirement already satisfied: scikit-learn>=0.20 in /usr/local/lib/python3.7/dist-packages (from hdbscan) (1.0.2)\n",
            "Requirement already satisfied: numpy>=1.16 in /usr/local/lib/python3.7/dist-packages (from hdbscan) (1.19.5)\n",
            "Requirement already satisfied: six in /usr/local/lib/python3.7/dist-packages (from hdbscan) (1.15.0)\n",
            "Requirement already satisfied: cython>=0.27 in /usr/local/lib/python3.7/dist-packages (from hdbscan) (0.29.27)\n",
            "Requirement already satisfied: scipy>=1.0 in /usr/local/lib/python3.7/dist-packages (from hdbscan) (1.4.1)\n",
            "Requirement already satisfied: threadpoolctl>=2.0.0 in /usr/local/lib/python3.7/dist-packages (from scikit-learn>=0.20->hdbscan) (3.1.0)\n",
            "Building wheels for collected packages: hdbscan\n",
            "  Building wheel for hdbscan (PEP 517) ... \u001b[?25l\u001b[?25hdone\n",
            "  Created wheel for hdbscan: filename=hdbscan-0.8.27-cp37-cp37m-linux_x86_64.whl size=2311897 sha256=30b3ab341a7cc6f99e1d789b89fd9ab4d2616d96f91738df44d81440766f6765\n",
            "  Stored in directory: /root/.cache/pip/wheels/73/5f/2f/9a259b84003b84847c259779206acecabb25ab56f1506ee72b\n",
            "Successfully built hdbscan\n",
            "Installing collected packages: hdbscan\n",
            "Successfully installed hdbscan-0.8.27\n"
          ]
        }
      ]
    },
    {
      "cell_type": "markdown",
      "source": [
        "*AUTOENCODER WITH HDBSCAN*\n",
        "\n",
        "---\n",
        "\n"
      ],
      "metadata": {
        "id": "lwp1tMkK9mp4"
      }
    },
    {
      "cell_type": "code",
      "source": [
        "import hdbscan\n",
        "rand = []\n",
        "mcs_rec=[]\n",
        "ms_rec=[]\n",
        "mcs = [5,15,30,60,100,200,500,1000,3000]\n",
        "ms = [5,15,30,60,100,200,500]\n",
        "for i in range(len(mcs)):\n",
        "    for j in range(len(ms)):\n",
        "        print('Testing for min_cluster_size and min_sample = ',mcs[i],'and',ms[j])\n",
        "        hdbs = hdbscan.HDBSCAN(min_cluster_size=mcs[i],cluster_selection_epsilon=0.3,min_samples=ms[j],core_dist_n_jobs=-1).fit_predict(km_a)\n",
        "        rand.append(adjusted_rand_score(y_all, hdbs))\n",
        "        mcs_rec.append(mcs[i])\n",
        "        ms_rec.append(ms[j])\n",
        "        \n",
        "print('Done testing')"
      ],
      "metadata": {
        "colab": {
          "base_uri": "https://localhost:8080/"
        },
        "id": "FAWVHsH59swQ",
        "outputId": "2df23938-33a6-47f0-b041-c70aa3d77555"
      },
      "execution_count": null,
      "outputs": [
        {
          "output_type": "stream",
          "name": "stdout",
          "text": [
            "Testing for min_cluster_size and min_sample =  5 and 5\n",
            "Testing for min_cluster_size and min_sample =  5 and 15\n",
            "Testing for min_cluster_size and min_sample =  5 and 30\n",
            "Testing for min_cluster_size and min_sample =  5 and 60\n",
            "Testing for min_cluster_size and min_sample =  5 and 100\n",
            "Testing for min_cluster_size and min_sample =  5 and 200\n",
            "Testing for min_cluster_size and min_sample =  5 and 500\n",
            "Testing for min_cluster_size and min_sample =  15 and 5\n",
            "Testing for min_cluster_size and min_sample =  15 and 15\n",
            "Testing for min_cluster_size and min_sample =  15 and 30\n",
            "Testing for min_cluster_size and min_sample =  15 and 60\n",
            "Testing for min_cluster_size and min_sample =  15 and 100\n",
            "Testing for min_cluster_size and min_sample =  15 and 200\n",
            "Testing for min_cluster_size and min_sample =  15 and 500\n",
            "Testing for min_cluster_size and min_sample =  30 and 5\n",
            "Testing for min_cluster_size and min_sample =  30 and 15\n",
            "Testing for min_cluster_size and min_sample =  30 and 30\n",
            "Testing for min_cluster_size and min_sample =  30 and 60\n",
            "Testing for min_cluster_size and min_sample =  30 and 100\n",
            "Testing for min_cluster_size and min_sample =  30 and 200\n",
            "Testing for min_cluster_size and min_sample =  30 and 500\n",
            "Testing for min_cluster_size and min_sample =  60 and 5\n",
            "Testing for min_cluster_size and min_sample =  60 and 15\n",
            "Testing for min_cluster_size and min_sample =  60 and 30\n",
            "Testing for min_cluster_size and min_sample =  60 and 60\n",
            "Testing for min_cluster_size and min_sample =  60 and 100\n",
            "Testing for min_cluster_size and min_sample =  60 and 200\n",
            "Testing for min_cluster_size and min_sample =  60 and 500\n",
            "Testing for min_cluster_size and min_sample =  100 and 5\n",
            "Testing for min_cluster_size and min_sample =  100 and 15\n",
            "Testing for min_cluster_size and min_sample =  100 and 30\n",
            "Testing for min_cluster_size and min_sample =  100 and 60\n",
            "Testing for min_cluster_size and min_sample =  100 and 100\n",
            "Testing for min_cluster_size and min_sample =  100 and 200\n",
            "Testing for min_cluster_size and min_sample =  100 and 500\n",
            "Testing for min_cluster_size and min_sample =  200 and 5\n",
            "Testing for min_cluster_size and min_sample =  200 and 15\n",
            "Testing for min_cluster_size and min_sample =  200 and 30\n",
            "Testing for min_cluster_size and min_sample =  200 and 60\n",
            "Testing for min_cluster_size and min_sample =  200 and 100\n",
            "Testing for min_cluster_size and min_sample =  200 and 200\n",
            "Testing for min_cluster_size and min_sample =  200 and 500\n",
            "Testing for min_cluster_size and min_sample =  500 and 5\n",
            "Testing for min_cluster_size and min_sample =  500 and 15\n",
            "Testing for min_cluster_size and min_sample =  500 and 30\n",
            "Testing for min_cluster_size and min_sample =  500 and 60\n",
            "Testing for min_cluster_size and min_sample =  500 and 100\n",
            "Testing for min_cluster_size and min_sample =  500 and 200\n",
            "Testing for min_cluster_size and min_sample =  500 and 500\n",
            "Testing for min_cluster_size and min_sample =  1000 and 5\n",
            "Testing for min_cluster_size and min_sample =  1000 and 15\n",
            "Testing for min_cluster_size and min_sample =  1000 and 30\n",
            "Testing for min_cluster_size and min_sample =  1000 and 60\n",
            "Testing for min_cluster_size and min_sample =  1000 and 100\n",
            "Testing for min_cluster_size and min_sample =  1000 and 200\n",
            "Testing for min_cluster_size and min_sample =  1000 and 500\n",
            "Testing for min_cluster_size and min_sample =  3000 and 5\n",
            "Testing for min_cluster_size and min_sample =  3000 and 15\n",
            "Testing for min_cluster_size and min_sample =  3000 and 30\n",
            "Testing for min_cluster_size and min_sample =  3000 and 60\n",
            "Testing for min_cluster_size and min_sample =  3000 and 100\n",
            "Testing for min_cluster_size and min_sample =  3000 and 200\n",
            "Testing for min_cluster_size and min_sample =  3000 and 500\n",
            "Done testing\n"
          ]
        }
      ]
    },
    {
      "cell_type": "code",
      "source": [
        "best_mcs_hdb = mcs_rec[rand.index(max(rand))]\n",
        "best_ms_hdb = ms_rec[rand.index(max(rand))]\n",
        "print('Best value of min cluster size and minimum number of samples hyperparameters for HDBSCAN: ', best_mcs_hdb,'and',best_ms_hdb)\n",
        "print('Rand Score:  %.3f' % max(rand))"
      ],
      "metadata": {
        "colab": {
          "base_uri": "https://localhost:8080/"
        },
        "id": "evUN05H7-BwA",
        "outputId": "95f3411a-0130-4bad-8410-af7524ba4f23"
      },
      "execution_count": null,
      "outputs": [
        {
          "output_type": "stream",
          "name": "stdout",
          "text": [
            "Best value of min cluster size and minimum number of samples hyperparameters for HDBSCAN:  5 and 5\n",
            "Rand Score:  0.013\n"
          ]
        }
      ]
    },
    {
      "cell_type": "markdown",
      "source": [
        "**SVD with k-means**\n",
        "\n",
        "---\n",
        "\n"
      ],
      "metadata": {
        "id": "5K4c21y8JFqx"
      }
    },
    {
      "cell_type": "code",
      "source": [
        "from sklearn.cluster import KMeans\n",
        "from sklearn import metrics\n",
        "from sklearn.cluster import KMeans,  AgglomerativeClustering, DBSCAN\n",
        "from sklearn.decomposition import TruncatedSVD\n",
        "from sklearn.metrics.cluster import rand_score\n",
        "\n",
        "km = KMeans(n_clusters=5, random_state=0, max_iter=1000, n_init=30, init='k-means++')\n",
        "km.fit(f_all)\n",
        "\n",
        "svd = TruncatedSVD(n_components=50, random_state=0)\n",
        "svd_km = svd.fit_transform(f_all)\n",
        "kmean_svd = km.fit(svd_km)\n",
        "print(\"K-means Clustering- Rand Score: %.3f\"% adjusted_rand_score(y_all, kmean_svd.labels_))"
      ],
      "metadata": {
        "id": "HITf_-WeJI0f",
        "colab": {
          "base_uri": "https://localhost:8080/"
        },
        "outputId": "77880326-e839-4299-d6bb-7db5e7f8af67"
      },
      "execution_count": null,
      "outputs": [
        {
          "output_type": "stream",
          "name": "stdout",
          "text": [
            "K-means Clustering- Rand Score: 0.192\n"
          ]
        }
      ]
    },
    {
      "cell_type": "markdown",
      "source": [
        "**SVD with Agglomerative Clustering**\n",
        "\n",
        "---\n",
        "\n"
      ],
      "metadata": {
        "id": "48q-ynBBKNyG"
      }
    },
    {
      "cell_type": "code",
      "source": [
        "ac_w = AgglomerativeClustering(n_clusters=20, linkage='ward').fit(svd_km)\n",
        "print(\"Agglomerative Clustering, Ward - Rand Score: %.3f\"% adjusted_rand_score(y_all, ac_w.labels_))"
      ],
      "metadata": {
        "id": "5ude3RxKKSci",
        "colab": {
          "base_uri": "https://localhost:8080/"
        },
        "outputId": "fb748809-ad31-429d-ee1e-36c8b88ed1ff"
      },
      "execution_count": null,
      "outputs": [
        {
          "output_type": "stream",
          "name": "stdout",
          "text": [
            "Agglomerative Clustering, Ward - Rand Score: 0.216\n"
          ]
        }
      ]
    },
    {
      "cell_type": "markdown",
      "source": [
        "**SVD with HDBSCAN**\n",
        "\n",
        "---\n",
        "\n"
      ],
      "metadata": {
        "id": "DcwE9bNNLgBQ"
      }
    },
    {
      "cell_type": "code",
      "source": [
        "import hdbscan\n",
        "rand = []\n",
        "mcs_rec=[]\n",
        "ms_rec=[]\n",
        "mcs = [5,15,30,60,100,200,500,1000,3000]\n",
        "ms = [5,15,30,60,100,200,500]\n",
        "for i in range(len(mcs)):\n",
        "    for j in range(len(ms)):\n",
        "        print('Testing for min_cluster_size and min_sample = ',mcs[i],'and',ms[j])\n",
        "        hdbs = hdbscan.HDBSCAN(min_cluster_size=mcs[i],cluster_selection_epsilon=0.3,min_samples=ms[j],core_dist_n_jobs=-1).fit_predict(svd_km)\n",
        "        rand.append(adjusted_rand_score(y_all, hdbs))\n",
        "        mcs_rec.append(mcs[i])\n",
        "        ms_rec.append(ms[j])\n",
        "        \n",
        "print('Done testing')"
      ],
      "metadata": {
        "id": "XistnZ6HLm1L",
        "colab": {
          "base_uri": "https://localhost:8080/"
        },
        "outputId": "cb2be6db-c473-43d6-d289-37deaf2af072"
      },
      "execution_count": null,
      "outputs": [
        {
          "output_type": "stream",
          "name": "stdout",
          "text": [
            "Testing for min_cluster_size and min_sample =  5 and 5\n",
            "Testing for min_cluster_size and min_sample =  5 and 15\n",
            "Testing for min_cluster_size and min_sample =  5 and 30\n",
            "Testing for min_cluster_size and min_sample =  5 and 60\n",
            "Testing for min_cluster_size and min_sample =  5 and 100\n",
            "Testing for min_cluster_size and min_sample =  5 and 200\n",
            "Testing for min_cluster_size and min_sample =  5 and 500\n",
            "Testing for min_cluster_size and min_sample =  15 and 5\n",
            "Testing for min_cluster_size and min_sample =  15 and 15\n",
            "Testing for min_cluster_size and min_sample =  15 and 30\n",
            "Testing for min_cluster_size and min_sample =  15 and 60\n",
            "Testing for min_cluster_size and min_sample =  15 and 100\n",
            "Testing for min_cluster_size and min_sample =  15 and 200\n",
            "Testing for min_cluster_size and min_sample =  15 and 500\n",
            "Testing for min_cluster_size and min_sample =  30 and 5\n",
            "Testing for min_cluster_size and min_sample =  30 and 15\n",
            "Testing for min_cluster_size and min_sample =  30 and 30\n",
            "Testing for min_cluster_size and min_sample =  30 and 60\n",
            "Testing for min_cluster_size and min_sample =  30 and 100\n",
            "Testing for min_cluster_size and min_sample =  30 and 200\n",
            "Testing for min_cluster_size and min_sample =  30 and 500\n",
            "Testing for min_cluster_size and min_sample =  60 and 5\n",
            "Testing for min_cluster_size and min_sample =  60 and 15\n",
            "Testing for min_cluster_size and min_sample =  60 and 30\n",
            "Testing for min_cluster_size and min_sample =  60 and 60\n",
            "Testing for min_cluster_size and min_sample =  60 and 100\n",
            "Testing for min_cluster_size and min_sample =  60 and 200\n",
            "Testing for min_cluster_size and min_sample =  60 and 500\n",
            "Testing for min_cluster_size and min_sample =  100 and 5\n",
            "Testing for min_cluster_size and min_sample =  100 and 15\n",
            "Testing for min_cluster_size and min_sample =  100 and 30\n",
            "Testing for min_cluster_size and min_sample =  100 and 60\n",
            "Testing for min_cluster_size and min_sample =  100 and 100\n",
            "Testing for min_cluster_size and min_sample =  100 and 200\n",
            "Testing for min_cluster_size and min_sample =  100 and 500\n",
            "Testing for min_cluster_size and min_sample =  200 and 5\n",
            "Testing for min_cluster_size and min_sample =  200 and 15\n",
            "Testing for min_cluster_size and min_sample =  200 and 30\n",
            "Testing for min_cluster_size and min_sample =  200 and 60\n",
            "Testing for min_cluster_size and min_sample =  200 and 100\n",
            "Testing for min_cluster_size and min_sample =  200 and 200\n",
            "Testing for min_cluster_size and min_sample =  200 and 500\n",
            "Testing for min_cluster_size and min_sample =  500 and 5\n",
            "Testing for min_cluster_size and min_sample =  500 and 15\n",
            "Testing for min_cluster_size and min_sample =  500 and 30\n",
            "Testing for min_cluster_size and min_sample =  500 and 60\n",
            "Testing for min_cluster_size and min_sample =  500 and 100\n",
            "Testing for min_cluster_size and min_sample =  500 and 200\n",
            "Testing for min_cluster_size and min_sample =  500 and 500\n",
            "Testing for min_cluster_size and min_sample =  1000 and 5\n",
            "Testing for min_cluster_size and min_sample =  1000 and 15\n",
            "Testing for min_cluster_size and min_sample =  1000 and 30\n",
            "Testing for min_cluster_size and min_sample =  1000 and 60\n",
            "Testing for min_cluster_size and min_sample =  1000 and 100\n",
            "Testing for min_cluster_size and min_sample =  1000 and 200\n",
            "Testing for min_cluster_size and min_sample =  1000 and 500\n",
            "Testing for min_cluster_size and min_sample =  3000 and 5\n",
            "Testing for min_cluster_size and min_sample =  3000 and 15\n",
            "Testing for min_cluster_size and min_sample =  3000 and 30\n",
            "Testing for min_cluster_size and min_sample =  3000 and 60\n",
            "Testing for min_cluster_size and min_sample =  3000 and 100\n",
            "Testing for min_cluster_size and min_sample =  3000 and 200\n",
            "Testing for min_cluster_size and min_sample =  3000 and 500\n",
            "Done testing\n"
          ]
        }
      ]
    },
    {
      "cell_type": "code",
      "source": [
        "best_mcs_hdb = mcs_rec[rand.index(max(rand))]\n",
        "best_ms_hdb = ms_rec[rand.index(max(rand))]\n",
        "print('Best value of min cluster size and minimum number of samples hyperparameters for HDBSCAN: ', best_mcs_hdb,'and',best_ms_hdb)\n",
        "print('Rand Score:  %.3f' % max(rand))"
      ],
      "metadata": {
        "colab": {
          "base_uri": "https://localhost:8080/"
        },
        "id": "txkFNaXsQ8Et",
        "outputId": "331506d7-c393-4fa7-ac7f-76bd25ee20b3"
      },
      "execution_count": null,
      "outputs": [
        {
          "output_type": "stream",
          "name": "stdout",
          "text": [
            "Best value of min cluster size and minimum number of samples hyperparameters for HDBSCAN:  15 and 5\n",
            "Rand Score:  0.010\n"
          ]
        }
      ]
    },
    {
      "cell_type": "code",
      "source": [
        "!pip install umap_learn"
      ],
      "metadata": {
        "colab": {
          "base_uri": "https://localhost:8080/"
        },
        "id": "fnHOydkTt3b-",
        "outputId": "24a59cc8-a11b-4c26-dc20-2364a1279cd8"
      },
      "execution_count": null,
      "outputs": [
        {
          "output_type": "stream",
          "name": "stdout",
          "text": [
            "Collecting umap_learn\n",
            "  Downloading umap-learn-0.5.2.tar.gz (86 kB)\n",
            "\u001b[?25l\r\u001b[K     |███▊                            | 10 kB 21.2 MB/s eta 0:00:01\r\u001b[K     |███████▌                        | 20 kB 12.4 MB/s eta 0:00:01\r\u001b[K     |███████████▎                    | 30 kB 6.9 MB/s eta 0:00:01\r\u001b[K     |███████████████                 | 40 kB 6.3 MB/s eta 0:00:01\r\u001b[K     |██████████████████▉             | 51 kB 5.5 MB/s eta 0:00:01\r\u001b[K     |██████████████████████▋         | 61 kB 5.6 MB/s eta 0:00:01\r\u001b[K     |██████████████████████████▍     | 71 kB 5.4 MB/s eta 0:00:01\r\u001b[K     |██████████████████████████████▏ | 81 kB 6.0 MB/s eta 0:00:01\r\u001b[K     |████████████████████████████████| 86 kB 3.0 MB/s \n",
            "\u001b[?25hRequirement already satisfied: numpy>=1.17 in /usr/local/lib/python3.7/dist-packages (from umap_learn) (1.19.5)\n",
            "Requirement already satisfied: scikit-learn>=0.22 in /usr/local/lib/python3.7/dist-packages (from umap_learn) (1.0.2)\n",
            "Requirement already satisfied: scipy>=1.0 in /usr/local/lib/python3.7/dist-packages (from umap_learn) (1.4.1)\n",
            "Requirement already satisfied: numba>=0.49 in /usr/local/lib/python3.7/dist-packages (from umap_learn) (0.51.2)\n",
            "Collecting pynndescent>=0.5\n",
            "  Downloading pynndescent-0.5.6.tar.gz (1.1 MB)\n",
            "\u001b[K     |████████████████████████████████| 1.1 MB 32.1 MB/s \n",
            "\u001b[?25hRequirement already satisfied: tqdm in /usr/local/lib/python3.7/dist-packages (from umap_learn) (4.62.3)\n",
            "Requirement already satisfied: llvmlite<0.35,>=0.34.0.dev0 in /usr/local/lib/python3.7/dist-packages (from numba>=0.49->umap_learn) (0.34.0)\n",
            "Requirement already satisfied: setuptools in /usr/local/lib/python3.7/dist-packages (from numba>=0.49->umap_learn) (57.4.0)\n",
            "Requirement already satisfied: joblib>=0.11 in /usr/local/lib/python3.7/dist-packages (from pynndescent>=0.5->umap_learn) (1.1.0)\n",
            "Requirement already satisfied: threadpoolctl>=2.0.0 in /usr/local/lib/python3.7/dist-packages (from scikit-learn>=0.22->umap_learn) (3.1.0)\n",
            "Building wheels for collected packages: umap-learn, pynndescent\n",
            "  Building wheel for umap-learn (setup.py) ... \u001b[?25l\u001b[?25hdone\n",
            "  Created wheel for umap-learn: filename=umap_learn-0.5.2-py3-none-any.whl size=82708 sha256=a3cd92117b47be41b685ac079fb7ccd228a3d71e9a87899bfb0984463c88c0e2\n",
            "  Stored in directory: /root/.cache/pip/wheels/84/1b/c6/aaf68a748122632967cef4dffef68224eb16798b6793257d82\n",
            "  Building wheel for pynndescent (setup.py) ... \u001b[?25l\u001b[?25hdone\n",
            "  Created wheel for pynndescent: filename=pynndescent-0.5.6-py3-none-any.whl size=53943 sha256=fce3fe121a110b75e354d8d0f7e4d210699d9cd53712f66e617c60bc48435c59\n",
            "  Stored in directory: /root/.cache/pip/wheels/03/f1/56/f80d72741e400345b5a5b50ec3d929aca581bf45e0225d5c50\n",
            "Successfully built umap-learn pynndescent\n",
            "Installing collected packages: pynndescent, umap-learn\n",
            "Successfully installed pynndescent-0.5.6 umap-learn-0.5.2\n"
          ]
        }
      ]
    },
    {
      "cell_type": "markdown",
      "source": [
        "**UMAP with k-means**\n",
        "\n",
        "---\n",
        "\n"
      ],
      "metadata": {
        "id": "FiYIrSCfJJmf"
      }
    },
    {
      "cell_type": "code",
      "source": [
        "import umap.umap_ as umap"
      ],
      "metadata": {
        "id": "Bx995nRmZbFP"
      },
      "execution_count": null,
      "outputs": []
    },
    {
      "cell_type": "code",
      "source": [
        "Umap_cos = umap.UMAP(n_components=50, metric='cosine').fit_transform(f_all)"
      ],
      "metadata": {
        "colab": {
          "base_uri": "https://localhost:8080/"
        },
        "id": "9xkXePG9uOsL",
        "outputId": "885858f8-b3b8-44d9-83f7-ac816330a4ac"
      },
      "execution_count": null,
      "outputs": [
        {
          "output_type": "stream",
          "name": "stderr",
          "text": [
            "/usr/local/lib/python3.7/dist-packages/numba/np/ufunc/parallel.py:363: NumbaWarning: The TBB threading layer requires TBB version 2019.5 or later i.e., TBB_INTERFACE_VERSION >= 11005. Found TBB_INTERFACE_VERSION = 9107. The TBB threading layer is disabled.\n",
            "  warnings.warn(problem)\n"
          ]
        }
      ]
    },
    {
      "cell_type": "code",
      "source": [
        "X_train,X_test,y_train,y_test = train_test_split(Umap_cos,y_all,test_size=0.2)\n",
        "\n",
        "mlp = MLP(Umap_cos.shape[1])\n",
        "mlp.train(X_train,y_train)\n",
        "mlp.eval(X_test,y_test)"
      ],
      "metadata": {
        "colab": {
          "base_uri": "https://localhost:8080/"
        },
        "id": "t9gUmwBcvDEM",
        "outputId": "199a3b49-b26f-4bd8-ed2f-e863e77296f0"
      },
      "execution_count": null,
      "outputs": [
        {
          "output_type": "stream",
          "name": "stderr",
          "text": [
            "100%|██████████| 100/100 [00:24<00:00,  4.01it/s]\n"
          ]
        },
        {
          "output_type": "execute_result",
          "data": {
            "text/plain": [
              "87.60217983651226"
            ]
          },
          "metadata": {},
          "execution_count": 23
        }
      ]
    },
    {
      "cell_type": "code",
      "source": [
        "km = KMeans(n_clusters=5, random_state=0, max_iter=1000, n_init=30, init='k-means++')\n",
        "Umap_cos = umap.UMAP(n_components=50, metric='cosine').fit_transform(f_all)\n",
        "kmean_cos = km.fit(Umap_cos)"
      ],
      "metadata": {
        "colab": {
          "base_uri": "https://localhost:8080/"
        },
        "id": "_aSagP2tZlIz",
        "outputId": "2585dce4-a5cc-4b37-d555-9b75a8704ec2"
      },
      "execution_count": null,
      "outputs": [
        {
          "output_type": "stream",
          "name": "stderr",
          "text": [
            "/usr/local/lib/python3.7/dist-packages/numba/np/ufunc/parallel.py:363: NumbaWarning: The TBB threading layer requires TBB version 2019.5 or later i.e., TBB_INTERFACE_VERSION >= 11005. Found TBB_INTERFACE_VERSION = 9107. The TBB threading layer is disabled.\n",
            "  warnings.warn(problem)\n"
          ]
        }
      ]
    },
    {
      "cell_type": "code",
      "source": [
        "print(\"K-means Clustering- Rand Score: %.3f\"% adjusted_rand_score(y_all, kmean_cos.labels_))"
      ],
      "metadata": {
        "colab": {
          "base_uri": "https://localhost:8080/"
        },
        "id": "pPPFeSxQah3z",
        "outputId": "c7dae7da-e63b-49e1-ff2b-9698c167f711"
      },
      "execution_count": null,
      "outputs": [
        {
          "output_type": "stream",
          "name": "stdout",
          "text": [
            "K-means Clustering- Rand Score: 0.466\n"
          ]
        }
      ]
    },
    {
      "cell_type": "markdown",
      "source": [
        "**UMAP with Agglomerative Clustering**\n",
        "\n",
        "---\n",
        "\n"
      ],
      "metadata": {
        "id": "QBUr8MohdBgi"
      }
    },
    {
      "cell_type": "code",
      "source": [
        "Umap_cos = umap.UMAP(n_components=50, metric='cosine').fit_transform(f_all)\n",
        "ac_w_umap = AgglomerativeClustering(n_clusters=20, linkage='ward').fit(Umap_cos)\n",
        "print(\"Agglomerative Clustering- Rand Score: %.3f\"% adjusted_rand_score(y_all, ac_w_umap.labels_))"
      ],
      "metadata": {
        "colab": {
          "base_uri": "https://localhost:8080/"
        },
        "id": "g7fQmr1ZbJlT",
        "outputId": "559de29b-2171-43f7-d980-b15acbcd07ea"
      },
      "execution_count": null,
      "outputs": [
        {
          "output_type": "stream",
          "name": "stdout",
          "text": [
            "Agglomerative Clustering- Rand Score: 0.300\n"
          ]
        }
      ]
    },
    {
      "cell_type": "markdown",
      "source": [
        "**UMAP with HDBSCAN**\n",
        "\n",
        "---\n",
        "\n"
      ],
      "metadata": {
        "id": "3YZKtRtKdFgj"
      }
    },
    {
      "cell_type": "code",
      "source": [
        "rand = []\n",
        "mcs_rec=[]\n",
        "ms_rec=[]\n",
        "mcs = [5,15,30,60,100,200,500,1000,3000]\n",
        "ms = [5,15,30,60,100,200,500]\n",
        "for i in range(len(mcs)):\n",
        "    for j in range(len(ms)):\n",
        "        print('Testing for min_cluster_size and min_sample = ',mcs[i],'and',ms[j])\n",
        "        hdbs = hdbscan.HDBSCAN(min_cluster_size=mcs[i],cluster_selection_epsilon=0.3,min_samples=ms[j],core_dist_n_jobs=-1).fit_predict(Umap_cos)\n",
        "        rand.append(adjusted_rand_score(y_all, hdbs))\n",
        "        mcs_rec.append(mcs[i])\n",
        "        ms_rec.append(ms[j])\n",
        "        \n",
        "print('Done testing')"
      ],
      "metadata": {
        "colab": {
          "base_uri": "https://localhost:8080/"
        },
        "id": "kWJh6BFObkuy",
        "outputId": "791646cc-e531-46a2-c413-92c1c62be6b1"
      },
      "execution_count": null,
      "outputs": [
        {
          "output_type": "stream",
          "name": "stdout",
          "text": [
            "Testing for min_cluster_size and min_sample =  5 and 5\n",
            "Testing for min_cluster_size and min_sample =  5 and 15\n",
            "Testing for min_cluster_size and min_sample =  5 and 30\n",
            "Testing for min_cluster_size and min_sample =  5 and 60\n",
            "Testing for min_cluster_size and min_sample =  5 and 100\n",
            "Testing for min_cluster_size and min_sample =  5 and 200\n",
            "Testing for min_cluster_size and min_sample =  5 and 500\n",
            "Testing for min_cluster_size and min_sample =  15 and 5\n",
            "Testing for min_cluster_size and min_sample =  15 and 15\n",
            "Testing for min_cluster_size and min_sample =  15 and 30\n",
            "Testing for min_cluster_size and min_sample =  15 and 60\n",
            "Testing for min_cluster_size and min_sample =  15 and 100\n",
            "Testing for min_cluster_size and min_sample =  15 and 200\n",
            "Testing for min_cluster_size and min_sample =  15 and 500\n",
            "Testing for min_cluster_size and min_sample =  30 and 5\n",
            "Testing for min_cluster_size and min_sample =  30 and 15\n",
            "Testing for min_cluster_size and min_sample =  30 and 30\n",
            "Testing for min_cluster_size and min_sample =  30 and 60\n",
            "Testing for min_cluster_size and min_sample =  30 and 100\n",
            "Testing for min_cluster_size and min_sample =  30 and 200\n",
            "Testing for min_cluster_size and min_sample =  30 and 500\n",
            "Testing for min_cluster_size and min_sample =  60 and 5\n",
            "Testing for min_cluster_size and min_sample =  60 and 15\n",
            "Testing for min_cluster_size and min_sample =  60 and 30\n",
            "Testing for min_cluster_size and min_sample =  60 and 60\n",
            "Testing for min_cluster_size and min_sample =  60 and 100\n",
            "Testing for min_cluster_size and min_sample =  60 and 200\n",
            "Testing for min_cluster_size and min_sample =  60 and 500\n",
            "Testing for min_cluster_size and min_sample =  100 and 5\n",
            "Testing for min_cluster_size and min_sample =  100 and 15\n",
            "Testing for min_cluster_size and min_sample =  100 and 30\n",
            "Testing for min_cluster_size and min_sample =  100 and 60\n",
            "Testing for min_cluster_size and min_sample =  100 and 100\n",
            "Testing for min_cluster_size and min_sample =  100 and 200\n",
            "Testing for min_cluster_size and min_sample =  100 and 500\n",
            "Testing for min_cluster_size and min_sample =  200 and 5\n",
            "Testing for min_cluster_size and min_sample =  200 and 15\n",
            "Testing for min_cluster_size and min_sample =  200 and 30\n",
            "Testing for min_cluster_size and min_sample =  200 and 60\n",
            "Testing for min_cluster_size and min_sample =  200 and 100\n",
            "Testing for min_cluster_size and min_sample =  200 and 200\n",
            "Testing for min_cluster_size and min_sample =  200 and 500\n",
            "Testing for min_cluster_size and min_sample =  500 and 5\n",
            "Testing for min_cluster_size and min_sample =  500 and 15\n",
            "Testing for min_cluster_size and min_sample =  500 and 30\n",
            "Testing for min_cluster_size and min_sample =  500 and 60\n",
            "Testing for min_cluster_size and min_sample =  500 and 100\n",
            "Testing for min_cluster_size and min_sample =  500 and 200\n",
            "Testing for min_cluster_size and min_sample =  500 and 500\n",
            "Testing for min_cluster_size and min_sample =  1000 and 5\n",
            "Testing for min_cluster_size and min_sample =  1000 and 15\n",
            "Testing for min_cluster_size and min_sample =  1000 and 30\n",
            "Testing for min_cluster_size and min_sample =  1000 and 60\n",
            "Testing for min_cluster_size and min_sample =  1000 and 100\n",
            "Testing for min_cluster_size and min_sample =  1000 and 200\n",
            "Testing for min_cluster_size and min_sample =  1000 and 500\n",
            "Testing for min_cluster_size and min_sample =  3000 and 5\n",
            "Testing for min_cluster_size and min_sample =  3000 and 15\n",
            "Testing for min_cluster_size and min_sample =  3000 and 30\n",
            "Testing for min_cluster_size and min_sample =  3000 and 60\n",
            "Testing for min_cluster_size and min_sample =  3000 and 100\n",
            "Testing for min_cluster_size and min_sample =  3000 and 200\n",
            "Testing for min_cluster_size and min_sample =  3000 and 500\n",
            "Done testing\n"
          ]
        }
      ]
    },
    {
      "cell_type": "code",
      "source": [
        "best_mcs_hdb = mcs_rec[rand.index(max(rand))]\n",
        "best_ms_hdb = ms_rec[rand.index(max(rand))]\n",
        "print('Best value of min cluster size and minimum number of samples hyperparameters for HDBSCAN: ', best_mcs_hdb,'and',best_ms_hdb)\n",
        "print('Rand Score:  %.3f' % max(rand))"
      ],
      "metadata": {
        "colab": {
          "base_uri": "https://localhost:8080/"
        },
        "id": "5Ncuf3XAc0SD",
        "outputId": "d5792b75-9aec-499e-979c-9bc024f4032d"
      },
      "execution_count": null,
      "outputs": [
        {
          "output_type": "stream",
          "name": "stdout",
          "text": [
            "Best value of min cluster size and minimum number of samples hyperparameters for HDBSCAN:  5 and 5\n",
            "Rand Score:  0.095\n"
          ]
        }
      ]
    }
  ]
}